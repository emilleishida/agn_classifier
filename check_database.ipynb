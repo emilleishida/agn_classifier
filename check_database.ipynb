{
 "cells": [
  {
   "cell_type": "code",
   "execution_count": 1,
   "id": "b8e25c38-37c7-4063-b0e0-77b726f44c25",
   "metadata": {},
   "outputs": [],
   "source": [
    "import numpy as np\n",
    "import pandas as pd\n",
    "import glob\n",
    "import progressbar\n",
    "from sklearn.model_selection import train_test_split\n",
    "import matplotlib.pylab as plt\n",
    "import seaborn as sns\n",
    "from sklearn.ensemble import RandomForestClassifier"
   ]
  },
  {
   "cell_type": "code",
   "execution_count": 2,
   "id": "6acb839d-7ac9-4f08-bbbf-85d3cfae4846",
   "metadata": {},
   "outputs": [],
   "source": [
    "def mag2fluxcal_snana(magpsf: float, sigmapsf: float):\n",
    "    \"\"\" Conversion from magnitude to Fluxcal from SNANA manual\n",
    "    Parameters\n",
    "    ----------\n",
    "    magpsf: float\n",
    "        PSF-fit magnitude from ZTF.\n",
    "    sigmapsf: float\n",
    "        Error on PSF-fit magnitude from ZTF. \n",
    "    \n",
    "    Returns\n",
    "    ----------\n",
    "    fluxcal: float\n",
    "        Flux cal as used by SNANA\n",
    "    fluxcal_err: float\n",
    "        Absolute error on fluxcal (the derivative has a minus sign)\n",
    "    \"\"\"\n",
    "    if magpsf is None:\n",
    "        return None, None\n",
    "    fluxcal = 10 ** (-0.4 * magpsf) * 10 ** (11)\n",
    "    fluxcal_err = 9.21034 * 10 ** 10 * np.exp(-0.921034 * magpsf) * sigmapsf\n",
    "\n",
    "    return fluxcal, fluxcal_err\n",
    "\n",
    "\n",
    "def efficiency(label_pred: list, label_true: list, ia_flag=1):\n",
    "    \"\"\"Calculate efficiency.\n",
    "    Parameters\n",
    "    ----------\n",
    "    label_pred: list\n",
    "        Predicted labels\n",
    "    label_true: list\n",
    "        True labels\n",
    "    ia_flag: int (optional)\n",
    "        Flag used to identify Ia objects. Default is 1.\n",
    "    Returns\n",
    "    -------\n",
    "    efficiency: float\n",
    "       Fraction of correctly classified SN Ia.\n",
    "    \"\"\"\n",
    "\n",
    "    cc_ia = sum([label_pred[i] == label_true[i] and label_true[i] == ia_flag for i in range(len(label_pred))])\n",
    "    tot_ia = sum([label_true[i] == ia_flag for i in range(len(label_true))])\n",
    "\n",
    "    return float(cc_ia) / tot_ia\n",
    "\n",
    "\n",
    "def purity(label_pred: list, label_true: list, ia_flag=1):\n",
    "    \"\"\" Calculate purity.\n",
    "    Parameters\n",
    "    ----------\n",
    "    label_pred: list\n",
    "        Predicted labels\n",
    "    label_true: list\n",
    "        True labels\n",
    "    ia_flag: int (optional)\n",
    "        Flag used to identify Ia objects. Default is 1.\n",
    "    Returns\n",
    "    -------\n",
    "    Purity: float\n",
    "        Fraction of true SN Ia in the final classified Ia sample.\n",
    "    \"\"\"\n",
    "\n",
    "    cc_ia = sum([label_pred[i] == label_true[i] and label_true[i] == ia_flag for i in range(len(label_pred))])\n",
    "    wr_nia = sum([label_pred[i] != label_true[i] and label_true[i] != ia_flag for i in range(len(label_pred))])\n",
    "\n",
    "    if cc_ia + wr_nia > 0:\n",
    "        return float(cc_ia) / (cc_ia + wr_nia)\n",
    "    else:\n",
    "        return 0"
   ]
  },
  {
   "cell_type": "markdown",
   "id": "243460e4-0e6b-48bb-a24a-63b9228b32f0",
   "metadata": {},
   "source": [
    "# Construct database from scratch with the same candid"
   ]
  },
  {
   "cell_type": "code",
   "execution_count": 6,
   "id": "6426a51d-ddd5-4463-9a23-f1fd21937fec",
   "metadata": {},
   "outputs": [],
   "source": [
    "# read Etienne's files\n",
    "fname_etienne = '../../data/allAGN_100000.csv'\n",
    "agn_etienne = pd.read_csv(fname_etienne)\n",
    "agn_etienne_candid = agn_etienne[['candid']]\n",
    "\n",
    "fname_etienne_noagn = '../../data/simbad_noAGN_1000000.csv'\n",
    "noagn_etienne = pd.read_csv(fname_etienne_noagn)\n",
    "noagn_etienne_candid = noagn_etienne[['candid']]\n",
    "\n",
    "fname_etienne_tns = '../../data/tns_noAGN.csv'\n",
    "tns_etienne = pd.read_csv(fname_etienne_tns)\n",
    "tns_etienne_candid = tns_etienne[['candid']]\n",
    "\n",
    "all_etienne_candid = pd.concat([agn_etienne_candid, noagn_etienne_candid, tns_etienne_candid], ignore_index=True)"
   ]
  },
  {
   "cell_type": "code",
   "execution_count": 7,
   "id": "ef1121ac-5950-41c7-a54e-761eb31301e7",
   "metadata": {},
   "outputs": [
    {
     "data": {
      "text/plain": [
       "(1111132, 1)"
      ]
     },
     "execution_count": 7,
     "metadata": {},
     "output_type": "execute_result"
    }
   ],
   "source": [
    "# check total number of candid\n",
    "all_etienne_candid.shape"
   ]
  },
  {
   "cell_type": "code",
   "execution_count": 8,
   "id": "ce0c4be0-07f6-440e-8d76-680905240056",
   "metadata": {},
   "outputs": [
    {
     "data": {
      "text/plain": [
       "(1107481,)"
      ]
     },
     "execution_count": 8,
     "metadata": {},
     "output_type": "execute_result"
    }
   ],
   "source": [
    "# check number of unique candid\n",
    "np.unique(all_etienne_candid.values).shape"
   ]
  },
  {
   "cell_type": "code",
   "execution_count": 9,
   "id": "5b475ffc-851a-4762-a5d2-6a82fb25cd2a",
   "metadata": {},
   "outputs": [
    {
     "data": {
      "text/plain": [
       "(1103881, 1)"
      ]
     },
     "execution_count": 9,
     "metadata": {},
     "output_type": "execute_result"
    }
   ],
   "source": [
    "# remove duplicates\n",
    "etienne_candid = all_etienne_candid.drop_duplicates(subset=['candid'], keep=False)\n",
    "etienne_candid.shape"
   ]
  },
  {
   "cell_type": "code",
   "execution_count": 10,
   "id": "60d09aa6-85cf-4c68-a1c4-a8463953b80a",
   "metadata": {},
   "outputs": [],
   "source": [
    "# Read zenodo data\n",
    "orig_folder = '/media/emille/git/Fink/supernova_al/data/AL_data/'\n",
    "\n",
    "orig_flist = glob.glob(orig_folder + '*.parquet')"
   ]
  },
  {
   "cell_type": "code",
   "execution_count": 11,
   "id": "32c48993-1657-4094-b1a0-63a94125ef17",
   "metadata": {},
   "outputs": [
    {
     "name": "stderr",
     "output_type": "stream",
     "text": [
      "100% (34 of 34) |########################| Elapsed Time: 0:00:31 Time:  0:00:31\n"
     ]
    }
   ],
   "source": [
    "data_list = []\n",
    "\n",
    "for fname in progressbar.progressbar(np.array(orig_flist)):\n",
    "    \n",
    "    data_temp = pd.read_parquet(fname)\n",
    "    \n",
    "    flag_etienne = data_temp.candid.isin(etienne_candid.candid).astype(bool).values\n",
    "    data_list.append(data_temp[flag_etienne]) \n",
    "        \n",
    "data = pd.concat(data_list, ignore_index=True)"
   ]
  },
  {
   "cell_type": "code",
   "execution_count": 12,
   "id": "73f50605-7574-4ccb-9ea1-04f50e21c6f5",
   "metadata": {},
   "outputs": [
    {
     "data": {
      "text/plain": [
       "(1128467, 10)"
      ]
     },
     "execution_count": 12,
     "metadata": {},
     "output_type": "execute_result"
    }
   ],
   "source": [
    "# check size\n",
    "data.shape"
   ]
  },
  {
   "cell_type": "code",
   "execution_count": 13,
   "id": "f0324f2d-3080-45ff-84a5-0d2154ecd37f",
   "metadata": {},
   "outputs": [],
   "source": [
    "# remove repeated\n",
    "data.drop_duplicates(subset=['candid'], keep=False, inplace=True)"
   ]
  },
  {
   "cell_type": "code",
   "execution_count": 14,
   "id": "ce51eff6-c252-4e12-8140-37382f5149d6",
   "metadata": {},
   "outputs": [
    {
     "data": {
      "text/plain": [
       "(1079768, 10)"
      ]
     },
     "execution_count": 14,
     "metadata": {},
     "output_type": "execute_result"
    }
   ],
   "source": [
    "data.shape"
   ]
  },
  {
   "cell_type": "code",
   "execution_count": 15,
   "id": "036e951a-08dc-49ec-bc68-39f12467a355",
   "metadata": {},
   "outputs": [],
   "source": [
    "# separate in big classes, from Leoni et al., 2022\n",
    "\n",
    "big_class = {}\n",
    "big_class['multiple_object'] = ['EllipVar', 'Symbiotic*','SB*','DQHer', \n",
    "                                'Nova-like','EB*betLyr','AMHer','Nova','EB*Algol',\n",
    "                                'EB*WUMa','CataclyV*',\n",
    "                                  'DwarfNova','EB*']\n",
    "big_class['star'] = ['brownD*','SG*','RCrB_Candidate', 'HV*', 'WR*', 'YellowSG*','gammaDor','RotV*alf2CVn',\n",
    "                     'Erupt*RCrB','BlueStraggler','Eruptive*','V*?', 'Pulsar', \n",
    "                     'PulsV*bCep','low-mass*','post-AGB*', 'Pec*','pMS*','HotSubdwarf',\n",
    "                     'PM*','*inNeb','pulsV*SX','RGB*','HB*','BYDra',\n",
    "                       'PulsV*RVTau', 'BlueSG*','Irregular_V*','WD*','Ae*','RedSG*',\n",
    "                     'AGB*','OH/IR','Be*','Cepheid','PulsV*delSct','RotV*','PulsV*',\n",
    "                       'PulsV*WVir','S*','RSCVn','deltaCep','TTau*','Em*','Orion_V*',\n",
    "                     'YSO','V*','C*','Mira','LPV*','Star','RRLyr']\n",
    "big_class['AGN-like'] = ['LINER','Blazar','AGN','BLLac','QSO','Galaxy']\n",
    "big_class['other_SN'] = ['SNIb-pec', 'SNIb/c','SNII-pec','SN', 'SNIbn','SNIc-BL','SNI',\n",
    "                   'SNIb','SNIIb','SLSN-II','SNIIP','SLSN-I','SNIc','SNIIn','SNII',\n",
    "                  'SN Ibn','SN Ic-BL','SN I', 'SN Ib','SN IIb','SN IIP', 'SN Ic','SN IIn',\n",
    "                   'SN II', 'SN Icn', 'SNIcn', 'SN Ib/c','SN Ib-pec','SN IIL', 'SN II-pec']\n",
    "big_class['other_TNS'] = ['Mdwarf', 'LBV','TDE','Other','CV','Varstar', 'M dwarf','LRN',\n",
    "                          'FRB']\n",
    "big_class['SNIa'] = ['Ia', 'SN Ia', 'SN Ia-91T-like', 'SN Ia-91bg-like', 'SN Ia-CSM', \n",
    "                'SN Ia-pec', 'SN Iax[02cx-like]']\n",
    "\n",
    "# reverse it\n",
    "class_dict = {}\n",
    "for key in big_class.keys():\n",
    "    for item in big_class[key]:\n",
    "        class_dict[item] = key"
   ]
  },
  {
   "cell_type": "code",
   "execution_count": 16,
   "id": "f6fbbe3a-06d1-4dcc-91ce-bf2d4478ea55",
   "metadata": {},
   "outputs": [
    {
     "name": "stderr",
     "output_type": "stream",
     "text": [
      "100% (1079768 of 1079768) |##############| Elapsed Time: 0:10:01 Time:  0:10:01\n"
     ]
    }
   ],
   "source": [
    "# build big class column\n",
    "big_class_list = []\n",
    "small_class_list = []\n",
    "\n",
    "for i in progressbar.progressbar(range(data.shape[0])):\n",
    "\n",
    "    tns_class = data.iloc[i]['TNS']\n",
    "    simbad_class = data.iloc[i]['cdsxmatch']\n",
    "    \n",
    "    found_class = False\n",
    "    \n",
    "    if tns_class in class_dict.keys():\n",
    "        big_class_list.append(class_dict[tns_class])\n",
    "        small_class_list.append(tns_class)\n",
    "        found_class = True\n",
    "        \n",
    "    elif found_class == False and simbad_class in class_dict.keys():\n",
    "        big_class_list.append(class_dict[simbad_class])\n",
    "        small_class_list.append(simbad_class)\n",
    "        found_class = True\n",
    "        \n",
    "    elif found_class == False:\n",
    "        big_class_list.append(False)\n",
    "        small_class_list.append(False)\n",
    "        \n",
    "big_class_array = np.array(big_class_list)"
   ]
  },
  {
   "cell_type": "code",
   "execution_count": 17,
   "id": "e0342352-b427-450f-984f-f5295fdb2a7e",
   "metadata": {},
   "outputs": [
    {
     "name": "stdout",
     "output_type": "stream",
     "text": [
      "All labels added:  1079768\n",
      "    from which False:  0\n"
     ]
    }
   ],
   "source": [
    "print('All labels added: ', big_class_array.shape[0])\n",
    "print('    from which False: ', sum(np.array([item == False for item in big_class_list])))"
   ]
  },
  {
   "cell_type": "code",
   "execution_count": 18,
   "id": "83cf983f-5b38-47d6-b988-e2ffef5965dd",
   "metadata": {},
   "outputs": [],
   "source": [
    "data['big_class'] = big_class_list\n",
    "data['small_class'] = small_class_list"
   ]
  },
  {
   "cell_type": "code",
   "execution_count": 19,
   "id": "d8870420-c6f9-410e-896e-e75a061016ae",
   "metadata": {},
   "outputs": [],
   "source": [
    "unique_bigclass, pop = np.unique(np.array(big_class_list), return_counts=True)"
   ]
  },
  {
   "cell_type": "code",
   "execution_count": 20,
   "id": "673dd7f3-5227-4925-9776-1911910ce172",
   "metadata": {},
   "outputs": [],
   "source": [
    "pop_before_cuts = pd.DataFrame()\n",
    "pop_before_cuts['bigclass'] = unique_bigclass\n",
    "pop_before_cuts['population'] = pop\n",
    "pop_before_cuts['perc'] = np.round(100 * pop/big_class_array.shape[0], 2)"
   ]
  },
  {
   "cell_type": "code",
   "execution_count": 21,
   "id": "a6e4eefb-ba7a-42e1-b738-8a6a279a921d",
   "metadata": {},
   "outputs": [
    {
     "data": {
      "text/html": [
       "<div>\n",
       "<style scoped>\n",
       "    .dataframe tbody tr th:only-of-type {\n",
       "        vertical-align: middle;\n",
       "    }\n",
       "\n",
       "    .dataframe tbody tr th {\n",
       "        vertical-align: top;\n",
       "    }\n",
       "\n",
       "    .dataframe thead th {\n",
       "        text-align: right;\n",
       "    }\n",
       "</style>\n",
       "<table border=\"1\" class=\"dataframe\">\n",
       "  <thead>\n",
       "    <tr style=\"text-align: right;\">\n",
       "      <th></th>\n",
       "      <th>bigclass</th>\n",
       "      <th>population</th>\n",
       "      <th>perc</th>\n",
       "    </tr>\n",
       "  </thead>\n",
       "  <tbody>\n",
       "    <tr>\n",
       "      <th>0</th>\n",
       "      <td>AGN-like</td>\n",
       "      <td>96100</td>\n",
       "      <td>8.90</td>\n",
       "    </tr>\n",
       "    <tr>\n",
       "      <th>1</th>\n",
       "      <td>SNIa</td>\n",
       "      <td>6140</td>\n",
       "      <td>0.57</td>\n",
       "    </tr>\n",
       "    <tr>\n",
       "      <th>2</th>\n",
       "      <td>multiple_object</td>\n",
       "      <td>245944</td>\n",
       "      <td>22.78</td>\n",
       "    </tr>\n",
       "    <tr>\n",
       "      <th>3</th>\n",
       "      <td>other_SN</td>\n",
       "      <td>3819</td>\n",
       "      <td>0.35</td>\n",
       "    </tr>\n",
       "    <tr>\n",
       "      <th>4</th>\n",
       "      <td>other_TNS</td>\n",
       "      <td>830</td>\n",
       "      <td>0.08</td>\n",
       "    </tr>\n",
       "    <tr>\n",
       "      <th>5</th>\n",
       "      <td>star</td>\n",
       "      <td>726935</td>\n",
       "      <td>67.32</td>\n",
       "    </tr>\n",
       "  </tbody>\n",
       "</table>\n",
       "</div>"
      ],
      "text/plain": [
       "          bigclass  population   perc\n",
       "0         AGN-like       96100   8.90\n",
       "1             SNIa        6140   0.57\n",
       "2  multiple_object      245944  22.78\n",
       "3         other_SN        3819   0.35\n",
       "4        other_TNS         830   0.08\n",
       "5             star      726935  67.32"
      ]
     },
     "execution_count": 21,
     "metadata": {},
     "output_type": "execute_result"
    }
   ],
   "source": [
    "pop_before_cuts"
   ]
  },
  {
   "cell_type": "code",
   "execution_count": 22,
   "id": "10eeea9e-63f9-4e66-8385-d5ca122555c4",
   "metadata": {},
   "outputs": [
    {
     "name": "stderr",
     "output_type": "stream",
     "text": [
      "100% (1079768 of 1079768) |##############| Elapsed Time: 0:22:11 Time:  0:22:11\n"
     ]
    }
   ],
   "source": [
    "# impose  4 epochs per filter\n",
    "filter_flag = []\n",
    "\n",
    "for i in progressbar.progressbar(range(data.shape[0])):\n",
    "    candid = data.iloc[i]['candid']\n",
    "\n",
    "    filter_list = []\n",
    "    for fil in range(1, 3):\n",
    "        flag_temp = data.iloc[i]['cfid'] == fil\n",
    "        filter_list.append(sum(flag_temp))\n",
    "\n",
    "    filter_array = np.array(filter_list)\n",
    "\n",
    "    if sum([item > 3 for item in filter_array]) == 2:\n",
    "        filter_flag.append(True)\n",
    "    else:\n",
    "        filter_flag.append(False)\n",
    "        \n",
    "filter_flag = np.array(filter_flag)\n",
    "data_cut = data[filter_flag]"
   ]
  },
  {
   "cell_type": "code",
   "execution_count": 23,
   "id": "c090bec2-a49d-4b20-86f7-512fcad41c61",
   "metadata": {},
   "outputs": [
    {
     "data": {
      "text/plain": [
       "(922310, 12)"
      ]
     },
     "execution_count": 23,
     "metadata": {},
     "output_type": "execute_result"
    }
   ],
   "source": [
    "data_cut.shape"
   ]
  },
  {
   "cell_type": "code",
   "execution_count": 24,
   "id": "7bbeb60c-e0b4-41e2-abf9-f3f1617d8a1a",
   "metadata": {},
   "outputs": [],
   "source": [
    "unique_bigclass_cut, pop_cut = np.unique(data_cut['big_class'].values, return_counts=True)"
   ]
  },
  {
   "cell_type": "code",
   "execution_count": 25,
   "id": "25aae70f-8fe9-4831-9929-6a183f632cdf",
   "metadata": {},
   "outputs": [],
   "source": [
    "pop_after_cuts = pd.DataFrame()\n",
    "pop_after_cuts['bigclass'] = unique_bigclass_cut\n",
    "pop_after_cuts['population'] = pop_cut\n",
    "pop_after_cuts['perc'] = np.round(100 * pop_cut/data_cut.shape[0], 2)"
   ]
  },
  {
   "cell_type": "code",
   "execution_count": 26,
   "id": "fd31dbc3-b4ae-4e21-a349-4ce973f0a13e",
   "metadata": {},
   "outputs": [
    {
     "data": {
      "text/html": [
       "<div>\n",
       "<style scoped>\n",
       "    .dataframe tbody tr th:only-of-type {\n",
       "        vertical-align: middle;\n",
       "    }\n",
       "\n",
       "    .dataframe tbody tr th {\n",
       "        vertical-align: top;\n",
       "    }\n",
       "\n",
       "    .dataframe thead th {\n",
       "        text-align: right;\n",
       "    }\n",
       "</style>\n",
       "<table border=\"1\" class=\"dataframe\">\n",
       "  <thead>\n",
       "    <tr style=\"text-align: right;\">\n",
       "      <th></th>\n",
       "      <th>bigclass</th>\n",
       "      <th>population</th>\n",
       "      <th>perc</th>\n",
       "    </tr>\n",
       "  </thead>\n",
       "  <tbody>\n",
       "    <tr>\n",
       "      <th>0</th>\n",
       "      <td>AGN-like</td>\n",
       "      <td>89644</td>\n",
       "      <td>9.72</td>\n",
       "    </tr>\n",
       "    <tr>\n",
       "      <th>1</th>\n",
       "      <td>SNIa</td>\n",
       "      <td>5532</td>\n",
       "      <td>0.60</td>\n",
       "    </tr>\n",
       "    <tr>\n",
       "      <th>2</th>\n",
       "      <td>multiple_object</td>\n",
       "      <td>222601</td>\n",
       "      <td>24.14</td>\n",
       "    </tr>\n",
       "    <tr>\n",
       "      <th>3</th>\n",
       "      <td>other_SN</td>\n",
       "      <td>3421</td>\n",
       "      <td>0.37</td>\n",
       "    </tr>\n",
       "    <tr>\n",
       "      <th>4</th>\n",
       "      <td>other_TNS</td>\n",
       "      <td>712</td>\n",
       "      <td>0.08</td>\n",
       "    </tr>\n",
       "    <tr>\n",
       "      <th>5</th>\n",
       "      <td>star</td>\n",
       "      <td>600400</td>\n",
       "      <td>65.10</td>\n",
       "    </tr>\n",
       "  </tbody>\n",
       "</table>\n",
       "</div>"
      ],
      "text/plain": [
       "          bigclass  population   perc\n",
       "0         AGN-like       89644   9.72\n",
       "1             SNIa        5532   0.60\n",
       "2  multiple_object      222601  24.14\n",
       "3         other_SN        3421   0.37\n",
       "4        other_TNS         712   0.08\n",
       "5             star      600400  65.10"
      ]
     },
     "execution_count": 26,
     "metadata": {},
     "output_type": "execute_result"
    }
   ],
   "source": [
    "pop_after_cuts"
   ]
  },
  {
   "cell_type": "code",
   "execution_count": 27,
   "id": "b6e88423-23e8-4bda-849f-05b114c0e0a5",
   "metadata": {},
   "outputs": [
    {
     "name": "stderr",
     "output_type": "stream",
     "text": [
      "100% (922310 of 922310) |################| Elapsed Time: 0:31:58 Time:  0:31:58\n",
      "/media/emille/git/etienne/venv/etienne/lib/python3.7/site-packages/ipykernel_launcher.py:27: SettingWithCopyWarning: \n",
      "A value is trying to be set on a copy of a slice from a DataFrame.\n",
      "Try using .loc[row_indexer,col_indexer] = value instead\n",
      "\n",
      "See the caveats in the documentation: https://pandas.pydata.org/pandas-docs/stable/user_guide/indexing.html#returning-a-view-versus-a-copy\n",
      "/media/emille/git/etienne/venv/etienne/lib/python3.7/site-packages/ipykernel_launcher.py:28: SettingWithCopyWarning: \n",
      "A value is trying to be set on a copy of a slice from a DataFrame.\n",
      "Try using .loc[row_indexer,col_indexer] = value instead\n",
      "\n",
      "See the caveats in the documentation: https://pandas.pydata.org/pandas-docs/stable/user_guide/indexing.html#returning-a-view-versus-a-copy\n",
      "/media/emille/git/etienne/venv/etienne/lib/python3.7/site-packages/ipykernel_launcher.py:29: SettingWithCopyWarning: \n",
      "A value is trying to be set on a copy of a slice from a DataFrame.\n",
      "Try using .loc[row_indexer,col_indexer] = value instead\n",
      "\n",
      "See the caveats in the documentation: https://pandas.pydata.org/pandas-docs/stable/user_guide/indexing.html#returning-a-view-versus-a-copy\n",
      "/media/emille/git/etienne/venv/etienne/lib/python3.7/site-packages/ipykernel_launcher.py:30: SettingWithCopyWarning: \n",
      "A value is trying to be set on a copy of a slice from a DataFrame.\n",
      "Try using .loc[row_indexer,col_indexer] = value instead\n",
      "\n",
      "See the caveats in the documentation: https://pandas.pydata.org/pandas-docs/stable/user_guide/indexing.html#returning-a-view-versus-a-copy\n",
      "/media/emille/git/etienne/venv/etienne/lib/python3.7/site-packages/ipykernel_launcher.py:31: SettingWithCopyWarning: \n",
      "A value is trying to be set on a copy of a slice from a DataFrame.\n",
      "Try using .loc[row_indexer,col_indexer] = value instead\n",
      "\n",
      "See the caveats in the documentation: https://pandas.pydata.org/pandas-docs/stable/user_guide/indexing.html#returning-a-view-versus-a-copy\n",
      "/media/emille/git/etienne/venv/etienne/lib/python3.7/site-packages/ipykernel_launcher.py:32: SettingWithCopyWarning: \n",
      "A value is trying to be set on a copy of a slice from a DataFrame.\n",
      "Try using .loc[row_indexer,col_indexer] = value instead\n",
      "\n",
      "See the caveats in the documentation: https://pandas.pydata.org/pandas-docs/stable/user_guide/indexing.html#returning-a-view-versus-a-copy\n"
     ]
    }
   ],
   "source": [
    "std = {}\n",
    "max_flux = {}\n",
    "npoints = {}\n",
    "for i in range(1,3):\n",
    "    std[i] = []\n",
    "    max_flux[i] = []\n",
    "    npoints[i] = []\n",
    "\n",
    "    \n",
    "for i in progressbar.progressbar(range(data_cut.shape[0])):\n",
    "\n",
    "    for fil in range(1, 3):\n",
    "        flag_temp = data_cut.iloc[i]['cfid'] == fil\n",
    "        \n",
    "        # convert mag to flux\n",
    "        flux, fluxerr = mag2fluxcal_snana(data_cut.iloc[i]['cmagpsf'][flag_temp],\n",
    "                                          data_cut.iloc[i]['csigmapsf'][flag_temp])\n",
    "        \n",
    "        # drop nans\n",
    "        flux_clean = flux[~np.isnan(flux)]\n",
    "        \n",
    "        # calculate new features\n",
    "        std[fil].append(np.std(flux_clean))\n",
    "        max_flux[fil].append(np.max(flux_clean))\n",
    "        npoints[fil].append(len(flux_clean))\n",
    "        \n",
    "data_cut['maxflux_g'] = max_flux[1]\n",
    "data_cut['maxflux_r'] = max_flux[2]\n",
    "data_cut['std_g'] = std[1]\n",
    "data_cut['std_r'] = std[2]\n",
    "data_cut['npoints_g'] = npoints[1]\n",
    "data_cut['npoints_r'] = npoints[2]"
   ]
  },
  {
   "cell_type": "code",
   "execution_count": 28,
   "id": "333f3935-77bb-42da-a1e2-6b2d2f46cb7c",
   "metadata": {},
   "outputs": [
    {
     "name": "stdout",
     "output_type": "stream",
     "text": [
      "removed  48989\n"
     ]
    }
   ],
   "source": [
    "size_flag = np.logical_and(data_cut['npoints_g'] > 3, data_cut['npoints_r'] > 3)\n",
    "\n",
    "if sum(size_flag) < data_cut.shape[0]:\n",
    "    data_cut_final = data_cut[size_flag]\n",
    "    print('removed ', str(sum(~size_flag)))\n",
    "else:\n",
    "    data_cut_final = data_cut"
   ]
  },
  {
   "cell_type": "code",
   "execution_count": 29,
   "id": "eb75b7a2-ea60-4f60-b62a-3c2dd8c328ed",
   "metadata": {},
   "outputs": [
    {
     "data": {
      "text/plain": [
       "(873321, 18)"
      ]
     },
     "execution_count": 29,
     "metadata": {},
     "output_type": "execute_result"
    }
   ],
   "source": [
    "data_cut_final.shape"
   ]
  },
  {
   "cell_type": "code",
   "execution_count": 30,
   "id": "4ce28f23-bfc2-4fd1-8200-318ea2c4f1ef",
   "metadata": {},
   "outputs": [],
   "source": [
    "data_cut_final.to_csv('data/emille_data.csv.gz', index=False)"
   ]
  },
  {
   "cell_type": "markdown",
   "id": "31fe3eaa-509e-46fe-82d5-376150d2c2e0",
   "metadata": {},
   "source": [
    "# check parameter space"
   ]
  },
  {
   "cell_type": "code",
   "execution_count": 31,
   "id": "63eadec7-256a-46bb-b5d2-e854e2b6f414",
   "metadata": {},
   "outputs": [
    {
     "name": "stderr",
     "output_type": "stream",
     "text": [
      "/media/emille/git/etienne/venv/etienne/lib/python3.7/site-packages/ipykernel_launcher.py:2: SettingWithCopyWarning: \n",
      "A value is trying to be set on a copy of a slice from a DataFrame.\n",
      "Try using .loc[row_indexer,col_indexer] = value instead\n",
      "\n",
      "See the caveats in the documentation: https://pandas.pydata.org/pandas-docs/stable/user_guide/indexing.html#returning-a-view-versus-a-copy\n",
      "  \n"
     ]
    },
    {
     "data": {
      "image/png": "[encoded data removed]",
      "text/plain": [
       "<Figure size 1152x1080 with 6 Axes>"
      ]
     },
     "metadata": {
      "needs_background": "light"
     },
     "output_type": "display_data"
    }
   ],
   "source": [
    "flag_AGN_bigclass = data_cut_final['big_class'] == 'AGN-like'\n",
    "data_cut_final['AGN_bigclass'] = flag_AGN_bigclass.astype(int)\n",
    "\n",
    "plt.figure(figsize=(16,15))\n",
    "\n",
    "plt.subplot(3,2,1)\n",
    "plt.hist(data_cut_final[flag_AGN_bigclass]['std_g'], label='AGN_bigclass', alpha=0.3, log=True)\n",
    "plt.hist(data_cut_final[~flag_AGN_bigclass]['std_g'], label='others', alpha=0.3, log=True)\n",
    "plt.xscale('log')\n",
    "plt.legend()\n",
    "plt.xlabel('std_g', fontsize=14)\n",
    "plt.ylabel('N', fontsize=14)\n",
    "\n",
    "\n",
    "plt.subplot(3,2,2)\n",
    "plt.hist(data_cut_final[flag_AGN_bigclass]['std_r'], label='AGN_bigclass', alpha=0.3, log=True)\n",
    "plt.hist(data_cut_final[~flag_AGN_bigclass]['std_r'], label='others', alpha=0.3, log=True)\n",
    "plt.xscale('log')\n",
    "plt.legend()\n",
    "plt.xlabel('std_r', fontsize=14)\n",
    "plt.ylabel('N', fontsize=14)\n",
    "\n",
    "plt.subplot(3,2,3)\n",
    "plt.hist(data_cut_final[flag_AGN_bigclass]['maxflux_g'], label='AGN_bigclass', alpha=0.3, log=True)\n",
    "plt.hist(data_cut_final[~flag_AGN_bigclass]['maxflux_g'], label='others', alpha=0.3, log=True)\n",
    "plt.xscale('log')\n",
    "plt.legend()\n",
    "plt.xlabel('maxflux_g', fontsize=14)\n",
    "plt.ylabel('N', fontsize=14)\n",
    "\n",
    "\n",
    "plt.subplot(3,2,4)\n",
    "plt.hist(data_cut_final[flag_AGN_bigclass]['maxflux_r'], label='AGN_bigclass', alpha=0.3, log=True)\n",
    "plt.hist(data_cut_final[~flag_AGN_bigclass]['maxflux_r'], label='others', alpha=0.3, log=True)\n",
    "plt.xscale('log')\n",
    "plt.legend()\n",
    "plt.xlabel('maxflux_r', fontsize=14)\n",
    "plt.ylabel('N', fontsize=14)\n",
    "\n",
    "plt.subplot(3,2,5)\n",
    "plt.hist(data_cut_final[flag_AGN_bigclass]['npoints_g'], label='AGN_bigclass', alpha=0.3, log=True)\n",
    "plt.hist(data_cut_final[~flag_AGN_bigclass]['npoints_g'], label='others', alpha=0.3, log=True)\n",
    "plt.xscale('log')\n",
    "plt.legend()\n",
    "plt.xlabel('npoints_g', fontsize=14)\n",
    "plt.ylabel('N', fontsize=14)\n",
    "\n",
    "\n",
    "plt.subplot(3,2,6)\n",
    "plt.hist(data_cut_final[flag_AGN_bigclass]['npoints_r'], label='AGN_bigclass', alpha=0.3, log=True)\n",
    "plt.hist(data_cut_final[~flag_AGN_bigclass]['npoints_r'], label='others', alpha=0.3, log=True)\n",
    "plt.xscale('log')\n",
    "plt.legend()\n",
    "plt.xlabel('npoints_r', fontsize=14)\n",
    "plt.ylabel('N', fontsize=14)\n",
    "\n",
    "plt.show()"
   ]
  },
  {
   "cell_type": "code",
   "execution_count": 32,
   "id": "41f4f769-65f4-4770-80a0-f64019af3ea3",
   "metadata": {},
   "outputs": [
    {
     "name": "stderr",
     "output_type": "stream",
     "text": [
      "/media/emille/git/etienne/venv/etienne/lib/python3.7/site-packages/ipykernel_launcher.py:2: SettingWithCopyWarning: \n",
      "A value is trying to be set on a copy of a slice from a DataFrame.\n",
      "Try using .loc[row_indexer,col_indexer] = value instead\n",
      "\n",
      "See the caveats in the documentation: https://pandas.pydata.org/pandas-docs/stable/user_guide/indexing.html#returning-a-view-versus-a-copy\n",
      "  \n"
     ]
    },
    {
     "data": {
      "image/png": "[encoded data removed]",
      "text/plain": [
       "<Figure size 1152x1080 with 6 Axes>"
      ]
     },
     "metadata": {
      "needs_background": "light"
     },
     "output_type": "display_data"
    }
   ],
   "source": [
    "flag_AGN_smallclass = data_cut_final['small_class'] == 'AGN'\n",
    "data_cut_final['AGN_smallclass'] = flag_AGN_smallclass.astype(int)\n",
    "\n",
    "plt.figure(figsize=(16,15))\n",
    "\n",
    "plt.subplot(3,2,1)\n",
    "plt.hist(data_cut_final[flag_AGN_smallclass]['std_g'], label='AGN_smallclass', alpha=0.3, log=True)\n",
    "plt.hist(data_cut_final[~flag_AGN_smallclass]['std_g'], label='others', alpha=0.3, log=True)\n",
    "plt.xscale('log')\n",
    "plt.legend()\n",
    "plt.xlabel('std_g', fontsize=14)\n",
    "plt.ylabel('N', fontsize=14)\n",
    "\n",
    "\n",
    "plt.subplot(3,2,2)\n",
    "plt.hist(data_cut_final[flag_AGN_smallclass]['std_r'], label='AGN_smallclass', alpha=0.3, log=True)\n",
    "plt.hist(data_cut_final[~flag_AGN_smallclass]['std_r'], label='others', alpha=0.3, log=True)\n",
    "plt.xscale('log')\n",
    "plt.legend()\n",
    "plt.xlabel('std_r', fontsize=14)\n",
    "plt.ylabel('N', fontsize=14)\n",
    "\n",
    "plt.subplot(3,2,3)\n",
    "plt.hist(data_cut_final[flag_AGN_smallclass]['maxflux_g'], label='AGN_smallclass', alpha=0.3, log=True)\n",
    "plt.hist(data_cut_final[~flag_AGN_smallclass]['maxflux_g'], label='others', alpha=0.3, log=True)\n",
    "plt.xscale('log')\n",
    "plt.legend()\n",
    "plt.xlabel('maxflux_g', fontsize=14)\n",
    "plt.ylabel('N', fontsize=14)\n",
    "\n",
    "\n",
    "plt.subplot(3,2,4)\n",
    "plt.hist(data_cut_final[flag_AGN_smallclass]['maxflux_r'], label='AGN_smallclass', alpha=0.3, log=True)\n",
    "plt.hist(data_cut_final[~flag_AGN_smallclass]['maxflux_r'], label='others', alpha=0.3, log=True)\n",
    "plt.xscale('log')\n",
    "plt.legend()\n",
    "plt.xlabel('maxflux_r', fontsize=14)\n",
    "plt.ylabel('N', fontsize=14)\n",
    "\n",
    "plt.subplot(3,2,5)\n",
    "plt.hist(data_cut_final[flag_AGN_smallclass]['npoints_g'], label='AGN_smallclass', alpha=0.3, log=True)\n",
    "plt.hist(data_cut_final[~flag_AGN_smallclass]['npoints_g'], label='others', alpha=0.3, log=True)\n",
    "plt.xscale('log')\n",
    "plt.legend()\n",
    "plt.xlabel('npoints_g', fontsize=14)\n",
    "plt.ylabel('N', fontsize=14)\n",
    "\n",
    "\n",
    "plt.subplot(3,2,6)\n",
    "plt.hist(data_cut_final[flag_AGN_smallclass]['npoints_r'], label='AGN_smallclass', alpha=0.3, log=True)\n",
    "plt.hist(data_cut_final[~flag_AGN_smallclass]['npoints_r'], label='others', alpha=0.3, log=True)\n",
    "plt.xscale('log')\n",
    "plt.legend()\n",
    "plt.xlabel('npoints_r', fontsize=14)\n",
    "plt.ylabel('N', fontsize=14)\n",
    "\n",
    "plt.show()"
   ]
  },
  {
   "cell_type": "code",
   "execution_count": 33,
   "id": "514f2e74-52e7-49a7-a9ea-95dee014c0df",
   "metadata": {},
   "outputs": [
    {
     "name": "stderr",
     "output_type": "stream",
     "text": [
      "/media/emille/git/etienne/venv/etienne/lib/python3.7/site-packages/ipykernel_launcher.py:11: SettingWithCopyWarning: \n",
      "A value is trying to be set on a copy of a slice from a DataFrame.\n",
      "Try using .loc[row_indexer,col_indexer] = value instead\n",
      "\n",
      "See the caveats in the documentation: https://pandas.pydata.org/pandas-docs/stable/user_guide/indexing.html#returning-a-view-versus-a-copy\n",
      "  # This is added back by InteractiveShellApp.init_path()\n"
     ]
    },
    {
     "data": {
      "image/png": "[encoded data removed]",
      "text/plain": [
       "<Figure size 1152x1080 with 6 Axes>"
      ]
     },
     "metadata": {
      "needs_background": "light"
     },
     "output_type": "display_data"
    }
   ],
   "source": [
    "flags = {}\n",
    "subset = ['LINER','Blazar','AGN','BLLac','QSO']\n",
    "for i in range(len(subset)):\n",
    "    flags[i] = data_cut_final['small_class'] == subset[i]\n",
    "    \n",
    "flag1 = np.logical_or(flags[0], flags[1])\n",
    "flag2 = np.logical_or(flag1, flags[2])\n",
    "flag3 = np.logical_or(flag2, flags[3])\n",
    "flag4 = np.logical_or(flag3, flags[4])\n",
    "\n",
    "data_cut_final['AGN_subset'] = flag4.astype(int)\n",
    "\n",
    "plt.figure(figsize=(16,15))\n",
    "\n",
    "plt.subplot(3,2,1)\n",
    "plt.hist(data_cut_final[flag4]['std_g'], label='AGN_subset', alpha=0.3, log=True)\n",
    "plt.hist(data_cut_final[~flag4]['std_g'], label='others', alpha=0.3, log=True)\n",
    "plt.xscale('log')\n",
    "plt.legend()\n",
    "plt.xlabel('std_g', fontsize=14)\n",
    "plt.ylabel('N', fontsize=14)\n",
    "\n",
    "\n",
    "plt.subplot(3,2,2)\n",
    "plt.hist(data_cut_final[flag4]['std_r'], label='AGN_subset', alpha=0.3, log=True)\n",
    "plt.hist(data_cut_final[~flag4]['std_r'], label='others', alpha=0.3, log=True)\n",
    "plt.xscale('log')\n",
    "plt.legend()\n",
    "plt.xlabel('std_r', fontsize=14)\n",
    "plt.ylabel('N', fontsize=14)\n",
    "\n",
    "plt.subplot(3,2,3)\n",
    "plt.hist(data_cut_final[flag4]['maxflux_g'], label='AGN_subset', alpha=0.3, log=True)\n",
    "plt.hist(data_cut_final[~flag4]['maxflux_g'], label='others', alpha=0.3, log=True)\n",
    "plt.xscale('log')\n",
    "plt.legend()\n",
    "plt.xlabel('maxflux_g', fontsize=14)\n",
    "plt.ylabel('N', fontsize=14)\n",
    "\n",
    "\n",
    "plt.subplot(3,2,4)\n",
    "plt.hist(data_cut_final[flag4]['maxflux_r'], label='AGN_subset', alpha=0.3, log=True)\n",
    "plt.hist(data_cut_final[~flag4]['maxflux_r'], label='others', alpha=0.3, log=True)\n",
    "plt.xscale('log')\n",
    "plt.legend()\n",
    "plt.xlabel('maxflux_r', fontsize=14)\n",
    "plt.ylabel('N', fontsize=14)\n",
    "\n",
    "plt.subplot(3,2,5)\n",
    "plt.hist(data_cut_final[flag4]['npoints_g'], label='AGN_subset', alpha=0.3, log=True)\n",
    "plt.hist(data_cut_final[~flag4]['npoints_g'], label='others', alpha=0.3, log=True)\n",
    "plt.xscale('log')\n",
    "plt.legend()\n",
    "plt.xlabel('npoints_g', fontsize=14)\n",
    "plt.ylabel('N', fontsize=14)\n",
    "\n",
    "\n",
    "plt.subplot(3,2,6)\n",
    "plt.hist(data_cut_final[flag4]['npoints_r'], label='AGN_subset', alpha=0.3, log=True)\n",
    "plt.hist(data_cut_final[~flag4]['npoints_r'], label='others', alpha=0.3, log=True)\n",
    "plt.xscale('log')\n",
    "plt.legend()\n",
    "plt.xlabel('npoints_r', fontsize=14)\n",
    "plt.ylabel('N', fontsize=14)\n",
    "\n",
    "plt.show()"
   ]
  },
  {
   "cell_type": "code",
   "execution_count": 34,
   "id": "6370c0f7-5865-4ad3-9c32-ffd103ce4560",
   "metadata": {},
   "outputs": [
    {
     "data": {
      "text/plain": [
       "0.09936094517365321"
      ]
     },
     "execution_count": 34,
     "metadata": {},
     "output_type": "execute_result"
    }
   ],
   "source": [
    "sum(flag4)/flag4.shape[0]"
   ]
  },
  {
   "cell_type": "markdown",
   "id": "dfda17dc-86c6-4406-b660-7f810d4e5116",
   "metadata": {},
   "source": [
    "# Train a classifier"
   ]
  },
  {
   "cell_type": "markdown",
   "id": "10f60672-4a6e-4c01-b330-009b337cb799",
   "metadata": {},
   "source": [
    "### small class"
   ]
  },
  {
   "cell_type": "code",
   "execution_count": 35,
   "id": "aea772a8-2bdd-4416-b57f-e3ddb0ab2f03",
   "metadata": {},
   "outputs": [],
   "source": [
    "X_train, X_test, y_train, y_test = train_test_split(data_cut_final[['std_r', 'std_g']], data_cut_final['AGN_smallclass'], \n",
    "                                                    test_size=0.5, random_state=42)"
   ]
  },
  {
   "cell_type": "code",
   "execution_count": 36,
   "id": "4ad99a95-d02f-4481-a1ad-a0be0bd37633",
   "metadata": {},
   "outputs": [],
   "source": [
    "# use only std, subset sample\n",
    "clf = RandomForestClassifier(n_estimators=100, random_state=42)\n",
    "clf.fit(X_train, y_train)\n",
    "prob = clf.predict_proba(X_test)\n",
    "predicted_labels = clf.predict(X_test)"
   ]
  },
  {
   "cell_type": "code",
   "execution_count": 58,
   "id": "4dc2a870-4694-47f6-9feb-cabb62dfcd4a",
   "metadata": {},
   "outputs": [
    {
     "data": {
      "image/png": "[encoded data removed]",
      "text/plain": [
       "<Figure size 576x360 with 1 Axes>"
      ]
     },
     "metadata": {
      "needs_background": "light"
     },
     "output_type": "display_data"
    }
   ],
   "source": [
    "flag_pos = y_test == 1\n",
    "\n",
    "plt.figure(figsize=(8,5))\n",
    "plt.hist(prob[flag_pos][:,1], label='AGN_smallset', log=True, alpha=0.3, bins=100)\n",
    "plt.hist(prob[~flag_pos][:,1], label='others', log=True, alpha=0.3, bins=100)\n",
    "plt.xlabel('prob AGN', fontsize=14)\n",
    "plt.ylabel('N', fontsize=14)\n",
    "plt.legend()\n",
    "plt.show()"
   ]
  },
  {
   "cell_type": "code",
   "execution_count": 38,
   "id": "90d851ee-e371-40f1-9ec7-6caea4a5273b",
   "metadata": {},
   "outputs": [
    {
     "data": {
      "text/plain": [
       "0.99532589354213"
      ]
     },
     "execution_count": 38,
     "metadata": {},
     "output_type": "execute_result"
    }
   ],
   "source": [
    "clf.score(X_test, y_test)"
   ]
  },
  {
   "cell_type": "code",
   "execution_count": 39,
   "id": "f3a16495-f34b-42f9-9895-f15675bfe45b",
   "metadata": {},
   "outputs": [
    {
     "data": {
      "text/plain": [
       "0.002349648812236495"
      ]
     },
     "execution_count": 39,
     "metadata": {},
     "output_type": "execute_result"
    }
   ],
   "source": [
    "# fraction of positive class in the data set\n",
    "sum(y_test)/y_test.shape[0]"
   ]
  },
  {
   "cell_type": "code",
   "execution_count": 40,
   "id": "1b21417e-4d58-4605-908c-d0606080e1ae",
   "metadata": {},
   "outputs": [
    {
     "data": {
      "text/plain": [
       "0.014619883040935672"
      ]
     },
     "execution_count": 40,
     "metadata": {},
     "output_type": "execute_result"
    }
   ],
   "source": [
    "efficiency(predicted_labels, y_test.values, ia_flag=1)"
   ]
  },
  {
   "cell_type": "code",
   "execution_count": 41,
   "id": "4e620736-5a31-4f2d-85a9-8750ef5b9269",
   "metadata": {},
   "outputs": [
    {
     "data": {
      "text/plain": [
       "0.014354066985645933"
      ]
     },
     "execution_count": 41,
     "metadata": {},
     "output_type": "execute_result"
    }
   ],
   "source": [
    "purity(predicted_labels, y_test.values, ia_flag=1)"
   ]
  },
  {
   "cell_type": "markdown",
   "id": "5245b153-5c32-492e-9f21-ab997108a513",
   "metadata": {},
   "source": [
    "### subset"
   ]
  },
  {
   "cell_type": "code",
   "execution_count": 42,
   "id": "3c32a0d4-24cc-4194-be9e-d80eb3ebac8f",
   "metadata": {},
   "outputs": [],
   "source": [
    "X_train, X_test, y_train, y_test = train_test_split(data_cut_final[['std_r', 'std_g']], data_cut_final['AGN_subset'], \n",
    "                                                    test_size=0.5, random_state=42)"
   ]
  },
  {
   "cell_type": "code",
   "execution_count": 43,
   "id": "60007070-a8c8-4715-b3dd-8f588ec8ca2e",
   "metadata": {},
   "outputs": [],
   "source": [
    "# use only std, subset sample\n",
    "clf = RandomForestClassifier(n_estimators=100, random_state=42)\n",
    "clf.fit(X_train, y_train)\n",
    "prob = clf.predict_proba(X_test)\n",
    "predicted_labels = clf.predict(X_test)"
   ]
  },
  {
   "cell_type": "code",
   "execution_count": 57,
   "id": "a6c14152-11fe-4a6e-b6e6-31fb734afd47",
   "metadata": {},
   "outputs": [
    {
     "data": {
      "image/png": "[encoded data removed]",
      "text/plain": [
       "<Figure size 576x360 with 1 Axes>"
      ]
     },
     "metadata": {
      "needs_background": "light"
     },
     "output_type": "display_data"
    }
   ],
   "source": [
    "flag_pos = y_test == 1\n",
    "\n",
    "plt.figure(figsize=(8,5))\n",
    "plt.hist(prob[flag_pos][:,1], label='AGN_subset', log=True, alpha=0.3, bins=100)\n",
    "plt.hist(prob[~flag_pos][:,1], label='others', log=True, alpha=0.3,bins=100)\n",
    "plt.xlabel('prob AGN', fontsize=14)\n",
    "plt.ylabel('N', fontsize=14)\n",
    "plt.legend()\n",
    "plt.show()"
   ]
  },
  {
   "cell_type": "code",
   "execution_count": 45,
   "id": "8072b0ec-c979-4699-8e39-ffa95adb6063",
   "metadata": {},
   "outputs": [
    {
     "data": {
      "text/plain": [
       "0.9384075976558475"
      ]
     },
     "execution_count": 45,
     "metadata": {},
     "output_type": "execute_result"
    }
   ],
   "source": [
    "clf.score(X_test, y_test)"
   ]
  },
  {
   "cell_type": "code",
   "execution_count": 46,
   "id": "e5c90942-4767-4dc8-a24c-27f9daa4dba8",
   "metadata": {},
   "outputs": [
    {
     "data": {
      "text/plain": [
       "0.09963106391456988"
      ]
     },
     "execution_count": 46,
     "metadata": {},
     "output_type": "execute_result"
    }
   ],
   "source": [
    "# fraction of positive class in the data set\n",
    "sum(y_test)/y_test.shape[0]"
   ]
  },
  {
   "cell_type": "code",
   "execution_count": 47,
   "id": "4517eb09-7a77-40de-b89c-f331a865a5a5",
   "metadata": {},
   "outputs": [
    {
     "data": {
      "text/plain": [
       "0.686886564762671"
      ]
     },
     "execution_count": 47,
     "metadata": {},
     "output_type": "execute_result"
    }
   ],
   "source": [
    "efficiency(predicted_labels, y_test.values, ia_flag=1)"
   ]
  },
  {
   "cell_type": "code",
   "execution_count": 48,
   "id": "49597976-a80a-4410-bbe1-9f71b14f8299",
   "metadata": {},
   "outputs": [
    {
     "data": {
      "text/plain": [
       "0.6924413754750208"
      ]
     },
     "execution_count": 48,
     "metadata": {},
     "output_type": "execute_result"
    }
   ],
   "source": [
    "purity(predicted_labels, y_test.values, ia_flag=1)"
   ]
  },
  {
   "cell_type": "markdown",
   "id": "cacc13f8-2934-4985-ba4b-f315a6793683",
   "metadata": {},
   "source": [
    "# big class"
   ]
  },
  {
   "cell_type": "code",
   "execution_count": 49,
   "id": "4ba945a7-ea6d-4a33-aa8b-f4eba9e6c743",
   "metadata": {},
   "outputs": [],
   "source": [
    "X_train, X_test, y_train, y_test = train_test_split(data_cut_final[['std_r', 'std_g']], data_cut_final['AGN_bigclass'], \n",
    "                                                    test_size=0.5, random_state=42)"
   ]
  },
  {
   "cell_type": "code",
   "execution_count": 50,
   "id": "ccb2f413-cda4-4889-b06c-24f95b81ad34",
   "metadata": {},
   "outputs": [],
   "source": [
    "# use only std, bigset sample\n",
    "clf = RandomForestClassifier(n_estimators=100, random_state=42)\n",
    "clf.fit(X_train, y_train)\n",
    "prob = clf.predict_proba(X_test)\n",
    "predicted_labels = clf.predict(X_test)"
   ]
  },
  {
   "cell_type": "code",
   "execution_count": 56,
   "id": "d3980bbf-361e-443c-842d-46c91d931571",
   "metadata": {},
   "outputs": [
    {
     "data": {
      "image/png": "[encoded data removed]",
      "text/plain": [
       "<Figure size 576x360 with 1 Axes>"
      ]
     },
     "metadata": {
      "needs_background": "light"
     },
     "output_type": "display_data"
    }
   ],
   "source": [
    "flag_pos = y_test == 1\n",
    "\n",
    "plt.figure(figsize=(8,5))\n",
    "plt.hist(prob[flag_pos][:,1], label='AGN_bigclass', log=True, alpha=0.3, bins=100)\n",
    "plt.hist(prob[~flag_pos][:,1], label='others', log=True, alpha=0.3, bins=100)\n",
    "plt.xlabel('prob AGN', fontsize=14)\n",
    "plt.ylabel('N', fontsize=14)\n",
    "plt.legend()\n",
    "plt.show()"
   ]
  },
  {
   "cell_type": "code",
   "execution_count": 52,
   "id": "47f070fb-0c65-473c-921b-217e9fa01738",
   "metadata": {},
   "outputs": [
    {
     "data": {
      "text/plain": [
       "0.938412177867957"
      ]
     },
     "execution_count": 52,
     "metadata": {},
     "output_type": "execute_result"
    }
   ],
   "source": [
    "clf.score(X_test, y_test)"
   ]
  },
  {
   "cell_type": "code",
   "execution_count": 53,
   "id": "fc0a3ed3-9542-4793-ab52-c3ec6ddfdd35",
   "metadata": {},
   "outputs": [
    {
     "data": {
      "text/plain": [
       "0.09963335402062469"
      ]
     },
     "execution_count": 53,
     "metadata": {},
     "output_type": "execute_result"
    }
   ],
   "source": [
    "# fraction of positive class in the data set\n",
    "sum(y_test)/y_test.shape[0]"
   ]
  },
  {
   "cell_type": "code",
   "execution_count": 54,
   "id": "38dd30fe-efe1-4ced-8eb3-1945a002d14d",
   "metadata": {},
   "outputs": [
    {
     "data": {
      "text/plain": [
       "0.6869397324506965"
      ]
     },
     "execution_count": 54,
     "metadata": {},
     "output_type": "execute_result"
    }
   ],
   "source": [
    "efficiency(predicted_labels, y_test.values, ia_flag=1)"
   ]
  },
  {
   "cell_type": "code",
   "execution_count": 55,
   "id": "1709fb4f-2870-43a1-9194-9b028a0722df",
   "metadata": {},
   "outputs": [
    {
     "data": {
      "text/plain": [
       "0.6924627540026413"
      ]
     },
     "execution_count": 55,
     "metadata": {},
     "output_type": "execute_result"
    }
   ],
   "source": [
    "purity(predicted_labels, y_test.values, ia_flag=1)"
   ]
  },
  {
   "cell_type": "code",
   "execution_count": null,
   "id": "14368a2e-6f4b-4f5a-a581-dbc3024f109a",
   "metadata": {},
   "outputs": [],
   "source": []
  }
 ],
 "metadata": {
  "kernelspec": {
   "display_name": "Python 3 (ipykernel)",
   "language": "python",
   "name": "python3"
  },
  "language_info": {
   "codemirror_mode": {
    "name": "ipython",
    "version": 3
   },
   "file_extension": ".py",
   "mimetype": "text/x-python",
   "name": "python",
   "nbconvert_exporter": "python",
   "pygments_lexer": "ipython3",
   "version": "3.7.1"
  }
 },
 "nbformat": 4,
 "nbformat_minor": 5
}
